{
 "cells": [
  {
   "cell_type": "markdown",
   "id": "f5b3d1eb-56de-4b53-b0e1-6d2cd44ae8ae",
   "metadata": {},
   "source": [
    "# Data Science Tools and Ecosystem"
   ]
  },
  {
   "cell_type": "markdown",
   "id": "50d232f1-8f52-4507-b641-864c5275aebf",
   "metadata": {},
   "source": [
    "In this notebook, Data Science Tools and Ecosystem are summarized."
   ]
  },
  {
   "cell_type": "markdown",
   "id": "0513b5ef-ef0e-4cb5-a587-8c5881f01564",
   "metadata": {},
   "source": [
    "**Objectives:**\n",
    "- List popular languages for Data Science\n",
    "- list popular libraries for Data Science\n",
    "- Overview Data Science Tool Kit\n",
    "- Hands on Data Science Tool Kit"
   ]
  },
  {
   "cell_type": "markdown",
   "id": "16b674c4-9e31-4486-8de6-866ceb8f91fb",
   "metadata": {},
   "source": [
    "Some of the popular languages that Data Scientists use are:\n",
    "1. Python\n",
    "2. R\n",
    "3. C++\n",
    "4. SQL"
   ]
  },
  {
   "cell_type": "markdown",
   "id": "66f60148-0c26-482a-af87-43b19e222477",
   "metadata": {},
   "source": [
    "Some of the commonly used libraries used by Data Scientists include:\n",
    "1. Numpy\n",
    "2. Pandas\n",
    "3. Matplotlib\n",
    "4. GGplot2\n",
    "5. Plotly"
   ]
  },
  {
   "cell_type": "markdown",
   "id": "b738772c-a456-46c8-abe8-7d0d7526db7a",
   "metadata": {},
   "source": [
    "Data Science Tools\n",
    "|Data Science Tools|\n",
    "|:--:|\n",
    "|Rstudio|\n",
    "|Jupyter|\n",
    "|Spyder|"
   ]
  },
  {
   "cell_type": "markdown",
   "id": "3bbb2dbd-d8e9-4bf5-a0a2-8a130228445d",
   "metadata": {},
   "source": [
    "### Below are a few examples of evaluating arithmetic expressions in Python"
   ]
  },
  {
   "cell_type": "code",
   "execution_count": 2,
   "id": "823442b9-d59d-45c2-83e9-001682ba6058",
   "metadata": {},
   "outputs": [
    {
     "data": {
      "text/plain": [
       "17"
      ]
     },
     "execution_count": 2,
     "metadata": {},
     "output_type": "execute_result"
    }
   ],
   "source": [
    "#This a simple arithmetic expression to mutiply then add integers\n",
    "(3*4)+5"
   ]
  },
  {
   "cell_type": "code",
   "execution_count": 3,
   "id": "ae9c3446-c268-4eb3-93ff-68d0596d6a53",
   "metadata": {},
   "outputs": [
    {
     "data": {
      "text/plain": [
       "3.3333333333333335"
      ]
     },
     "execution_count": 3,
     "metadata": {},
     "output_type": "execute_result"
    }
   ],
   "source": [
    "#This will convert 200 minutes to hours by diving by 60\n",
    "minutes = 200\n",
    "hours = minutes/60\n",
    "hours"
   ]
  },
  {
   "cell_type": "markdown",
   "id": "11c5e39c-c62f-4485-831c-18a1d3931765",
   "metadata": {},
   "source": [
    "## Author\n",
    "Name: Prasetya Siregar"
   ]
  }
 ],
 "metadata": {
  "kernelspec": {
   "display_name": "Python 3 (ipykernel)",
   "language": "python",
   "name": "python3"
  },
  "language_info": {
   "codemirror_mode": {
    "name": "ipython",
    "version": 3
   },
   "file_extension": ".py",
   "mimetype": "text/x-python",
   "name": "python",
   "nbconvert_exporter": "python",
   "pygments_lexer": "ipython3",
   "version": "3.11.5"
  }
 },
 "nbformat": 4,
 "nbformat_minor": 5
}
